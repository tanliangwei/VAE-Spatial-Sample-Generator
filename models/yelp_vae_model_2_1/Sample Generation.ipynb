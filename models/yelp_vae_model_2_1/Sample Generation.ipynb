{
 "cells": [
  {
   "cell_type": "code",
   "execution_count": 1,
   "metadata": {},
   "outputs": [
    {
     "name": "stderr",
     "output_type": "stream",
     "text": [
      "Using TensorFlow backend.\n"
     ]
    }
   ],
   "source": [
    "from __future__ import absolute_import, division, print_function, unicode_literals\n",
    "\n",
    "import tensorflow as tf\n",
    "\n",
    "import os\n",
    "import time\n",
    "import numpy as np\n",
    "import glob\n",
    "import matplotlib.pyplot as plt\n",
    "import PIL\n",
    "import imageio\n",
    "import h5py\n",
    "\n",
    "import keras\n",
    "from keras import backend as K\n",
    "from keras.layers import Input, Dense, Lambda, Layer, Add, Multiply\n",
    "from keras.models import Model, Sequential\n",
    "from keras.utils import to_categorical\n",
    "from keras.models import model_from_json\n",
    "import numpy as np\n",
    "\n",
    "from IPython import display"
   ]
  },
  {
   "cell_type": "code",
   "execution_count": 2,
   "metadata": {},
   "outputs": [],
   "source": [
    "model_file = './model/vae_decoder.json'\n",
    "model_weights = './model/vae_decoder.h5'\n",
    "mu_file = './model/sample_mu.npy'\n",
    "log_var_file = './model/sample_log_var.npy'"
   ]
  },
  {
   "cell_type": "markdown",
   "metadata": {},
   "source": [
    "## Loading Model"
   ]
  },
  {
   "cell_type": "code",
   "execution_count": 3,
   "metadata": {},
   "outputs": [],
   "source": [
    "json_file = open(model_file, 'r')\n",
    "loaded_model_json = json_file.read()\n",
    "json_file.close()\n",
    "decoder = model_from_json(loaded_model_json)\n",
    "\n",
    "decoder.load_weights(model_weights)"
   ]
  },
  {
   "cell_type": "markdown",
   "metadata": {},
   "source": [
    "## Loading Meta Data"
   ]
  },
  {
   "cell_type": "code",
   "execution_count": 4,
   "metadata": {},
   "outputs": [],
   "source": [
    "mu_array = np.load(mu_file)\n",
    "log_var_array = np.load(log_var_file)"
   ]
  },
  {
   "cell_type": "markdown",
   "metadata": {},
   "source": [
    "## Relevant Functions"
   ]
  },
  {
   "cell_type": "code",
   "execution_count": 5,
   "metadata": {},
   "outputs": [],
   "source": [
    "reverse_categorical_map = {0:0, 1:0.5, 2:1, 3:1.5, 4:2, 5:2.5, 6:3, 7:3.5, 8:4, 9:4.5, 10:5}\n",
    "def sample(model, input_mu, input_log_var, samples_per_z=1):\n",
    "    multiplied_input_mu = np.repeat(input_mu, samples_per_z, axis=0)\n",
    "    multiplied_input_log_var = np.repeat(input_log_var, samples_per_z, axis=0)\n",
    "    eps = np.random.normal(size=(multiplied_input_mu.shape[0], multiplied_input_mu.shape[1]))\n",
    "    z = reparameterize(multiplied_input_mu, multiplied_input_log_var, eps)\n",
    "    predictions = model.predict(z, batch_size = None, steps = 1)\n",
    "    return reconstruct(predictions)\n",
    "    \n",
    "def reconstruct(predictions):\n",
    "    coordinates, review, categorical, binary = predictions\n",
    "    mu, log_var = np.split(coordinates, indices_or_sections = 2,axis = 1)\n",
    "    eps = np.random.normal(size=mu.shape)\n",
    "    coordinates_data = reparameterize(mu, log_var, eps)\n",
    "    print(coordinates_data)\n",
    "    for i, c in enumerate(coordinates_data):\n",
    "        if c[0] > 1.0:\n",
    "            coordinates_data[i][0]=1.0\n",
    "        if c[0] < 0.0:\n",
    "            coordinates_data[i][0]=0.0\n",
    "        if c[1] > 1.0:\n",
    "            coordinates_data[i][1]=1.0\n",
    "        if c[1] < 0.0:\n",
    "            coordinates_data[i][1]=0.0\n",
    "        coordinates_data[i][0] = (coordinates_data[i][0]*360)-180\n",
    "        coordinates_data[i][1] = (coordinates_data[i][1]*360)-180\n",
    "    log_mu2, log_var2 = np.split(review, indices_or_sections = 2,axis = 1)\n",
    "    mu2 = np.exp(log_mu2)\n",
    "    eps2 = np.random.normal(size=mu2.shape)\n",
    "    review_data = reparameterize(mu2, log_var2, eps2)\n",
    "    for i, r in enumerate(review_data):\n",
    "        if r[0] < 0:\n",
    "            review_data[i][0] = 0\n",
    "        review_data[i][0] = float(int(review_data[i][0]))\n",
    "    categorical = np.apply_along_axis(lambda t : np.random.multinomial(1,t), -1, categorical)\n",
    "    categorical = np.apply_along_axis(lambda t : np.argmax(t), -1, categorical)\n",
    "    categorical = np.expand_dims(categorical, axis = -1)\n",
    "    categorical_data = np.apply_along_axis(lambda t : float(reverse_categorical_map[t[0]]), -1, categorical)\n",
    "    categorical_data = np.expand_dims(categorical_data, axis = -1)\n",
    "    binary_data = np.apply_along_axis(lambda t: np.random.binomial(1, t), -1, binary)\n",
    "#     coordinates, reviews = np.split(continuous_data, indices_or_sections=[2], axis = 1)\n",
    "    return np.concatenate([coordinates_data, categorical_data, review_data, binary_data], axis = 1)\n",
    "\n",
    "    \n",
    "\n",
    "def reparameterize(input_mu, input_log_var, eps):\n",
    "    sigma = np.exp(0.5*input_log_var)\n",
    "    return eps*sigma + input_mu"
   ]
  },
  {
   "cell_type": "markdown",
   "metadata": {},
   "source": [
    "## Actual Generation of Samples\n",
    "\n",
    "The snippet (sample function) allows you to generate samples. You will need to supply the \n",
    "\n",
    "1. vae model\n",
    "2. array of mu\n",
    "3. array of log_var\n",
    "4. the number of samples you wish to generate per mu (optional and defaults to 1)"
   ]
  },
  {
   "cell_type": "code",
   "execution_count": 6,
   "metadata": {},
   "outputs": [
    {
     "name": "stdout",
     "output_type": "stream",
     "text": [
      "[[0.61352888 0.27183813]\n",
      " [0.6029171  0.26633407]\n",
      " [0.62049567 0.26709815]\n",
      " ...\n",
      " [0.59105151 0.18656359]\n",
      " [0.59953412 0.18493082]\n",
      " [0.61458471 0.26680933]]\n"
     ]
    }
   ],
   "source": [
    "vae_samples = sample(decoder, mu_array, log_var_array)\n",
    "file_name = './samples/vae_2_1_sample_' + str(len(mu_array))+'_times_'+ str(len(vae_samples)//len(mu_array)) + '_test.csv'\n",
    "np.savetxt(file_name, vae_samples, delimiter = ',', header='latitude,longitude,stars,review_count,is_open')"
   ]
  },
  {
   "cell_type": "code",
   "execution_count": null,
   "metadata": {},
   "outputs": [],
   "source": []
  }
 ],
 "metadata": {
  "kernelspec": {
   "display_name": "Python 3",
   "language": "python",
   "name": "python3"
  },
  "language_info": {
   "codemirror_mode": {
    "name": "ipython",
    "version": 3
   },
   "file_extension": ".py",
   "mimetype": "text/x-python",
   "name": "python",
   "nbconvert_exporter": "python",
   "pygments_lexer": "ipython3",
   "version": "3.6.7"
  }
 },
 "nbformat": 4,
 "nbformat_minor": 4
}
